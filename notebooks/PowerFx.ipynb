{
 "cells": [
  {
   "cell_type": "markdown",
   "metadata": {},
   "source": [
    "# Install .NET and Tools\n",
    "\n",
    "1. [.NET Framework](https://dot.net/learntocode)\n",
    "2. [Polyglot Notebooks Extension](https://marketplace.visualstudio.com/items?itemName=ms-dotnettools.dotnet-interactive-vscode)\n",
    "3. [Data Table Extension](https://marketplace.visualstudio.com/items?itemName=RandomFractalsInc.vscode-data-table)"
   ]
  },
  {
   "cell_type": "markdown",
   "metadata": {},
   "source": [
    "# Useful videos to watch regarding Polyglot Notebooks\n",
    "\n",
    ".NET Interactive Notebooks was renamed to Polyglot Notebooks.\n",
    "\n",
    "1. [Learn C# with Interactive Notebooks](https://www.youtube.com/watch?v=xdmdR2JfKfM)\n",
    "2. [NET Interactive Notebooks with C#/F# in VS Code](https://www.youtube.com/watch?v=DMYtIJT1OeU)\n",
    "3. [.NET Everywhere - Windows, Linux, and Beyond](https://www.youtube.com/watch?v=ZM6OO2lkxA4)"
   ]
  },
  {
   "cell_type": "markdown",
   "metadata": {},
   "source": [
    "## Install Power Fx - Local Build"
   ]
  },
  {
   "cell_type": "code",
   "execution_count": null,
   "metadata": {
    "dotnet_interactive": {
     "language": "csharp"
    },
    "polyglot_notebook": {
     "kernelName": "csharp"
    }
   },
   "outputs": [],
   "source": [
    "#i nuget:D:\\GitHub\\Power-Fx-.NET-Interactive\\src\\bin\\Debug\\\n",
    "#r \"nuget:PowerFx.NET.Interactive\""
   ]
  },
  {
   "cell_type": "markdown",
   "metadata": {},
   "source": [
    "# Install Power Fx kernel from Nuget"
   ]
  },
  {
   "cell_type": "code",
   "execution_count": 1,
   "metadata": {
    "dotnet_interactive": {
     "language": "csharp"
    }
   },
   "outputs": [
    {
     "data": {
      "text/html": [
       "<div><div></div><div></div><div><strong>Installed Packages</strong><ul><li><span>PowerFx.NET.Interactive, 2024.5.10.9</span></li></ul></div></div>"
      ]
     },
     "metadata": {},
     "output_type": "display_data"
    },
    {
     "data": {
      "text/plain": [
       "Loading extensions from `C:\\Users\\Natraj\\.nuget\\packages\\powerfx.net.interactive\\2024.5.10.9\\lib\\net8.0\\PowerFxDotnetInteractive.dll`"
      ]
     },
     "metadata": {},
     "output_type": "display_data"
    },
    {
     "data": {
      "text/html": [
       "<details><summary>These are the supported Power Fx functions in 1.3.0.0.</summary>\r\n",
       "            <ol><li><a href=\"https://docs.microsoft.com/en-us/search/?terms=Abs&scope=Power%20Apps\" >Abs</a></li><li><a href=\"https://docs.microsoft.com/en-us/search/?terms=Acos&scope=Power%20Apps\" >Acos</a></li><li><a href=\"https://docs.microsoft.com/en-us/search/?terms=Acot&scope=Power%20Apps\" >Acot</a></li><li><a href=\"https://docs.microsoft.com/en-us/search/?terms=AddColumns&scope=Power%20Apps\" >AddColumns</a></li><li><a href=\"https://docs.microsoft.com/en-us/search/?terms=And&scope=Power%20Apps\" >And</a></li><li><a href=\"https://docs.microsoft.com/en-us/search/?terms=Asin&scope=Power%20Apps\" >Asin</a></li><li><a href=\"https://docs.microsoft.com/en-us/search/?terms=AsType&scope=Power%20Apps\" >AsType</a></li><li><a href=\"https://docs.microsoft.com/en-us/search/?terms=Atan&scope=Power%20Apps\" >Atan</a></li><li><a href=\"https://docs.microsoft.com/en-us/search/?terms=Atan2&scope=Power%20Apps\" >Atan2</a></li><li><a href=\"https://docs.microsoft.com/en-us/search/?terms=Average&scope=Power%20Apps\" >Average</a></li><li><a href=\"https://docs.microsoft.com/en-us/search/?terms=Blank&scope=Power%20Apps\" >Blank</a></li><li><a href=\"https://docs.microsoft.com/en-us/search/?terms=Boolean&scope=Power%20Apps\" >Boolean</a></li><li><a href=\"https://docs.microsoft.com/en-us/search/?terms=Concat&scope=Power%20Apps\" >Concat</a></li><li><a href=\"https://docs.microsoft.com/en-us/search/?terms=Coalesce&scope=Power%20Apps\" >Coalesce</a></li><li><a href=\"https://docs.microsoft.com/en-us/search/?terms=Char&scope=Power%20Apps\" >Char</a></li><li><a href=\"https://docs.microsoft.com/en-us/search/?terms=ColorValue&scope=Power%20Apps\" >ColorValue</a></li><li><a href=\"https://docs.microsoft.com/en-us/search/?terms=ColorFade&scope=Power%20Apps\" >ColorFade</a></li><li><a href=\"https://docs.microsoft.com/en-us/search/?terms=Column&scope=Power%20Apps\" >Column</a></li><li><a href=\"https://docs.microsoft.com/en-us/search/?terms=ColumnNames&scope=Power%20Apps\" >ColumnNames</a></li><li><a href=\"https://docs.microsoft.com/en-us/search/?terms=Concatenate&scope=Power%20Apps\" >Concatenate</a></li><li><a href=\"https://docs.microsoft.com/en-us/search/?terms=Cos&scope=Power%20Apps\" >Cos</a></li><li><a href=\"https://docs.microsoft.com/en-us/search/?terms=Cot&scope=Power%20Apps\" >Cot</a></li><li><a href=\"https://docs.microsoft.com/en-us/search/?terms=Count&scope=Power%20Apps\" >Count</a></li><li><a href=\"https://docs.microsoft.com/en-us/search/?terms=CountA&scope=Power%20Apps\" >CountA</a></li><li><a href=\"https://docs.microsoft.com/en-us/search/?terms=CountIf&scope=Power%20Apps\" >CountIf</a></li><li><a href=\"https://docs.microsoft.com/en-us/search/?terms=CountRows&scope=Power%20Apps\" >CountRows</a></li><li><a href=\"https://docs.microsoft.com/en-us/search/?terms=Date&scope=Power%20Apps\" >Date</a></li><li><a href=\"https://docs.microsoft.com/en-us/search/?terms=DateAdd&scope=Power%20Apps\" >DateAdd</a></li><li><a href=\"https://docs.microsoft.com/en-us/search/?terms=DateDiff&scope=Power%20Apps\" >DateDiff</a></li><li><a href=\"https://docs.microsoft.com/en-us/search/?terms=DateTime&scope=Power%20Apps\" >DateTime</a></li><li><a href=\"https://docs.microsoft.com/en-us/search/?terms=DateValue&scope=Power%20Apps\" >DateValue</a></li><li><a href=\"https://docs.microsoft.com/en-us/search/?terms=DateTimeValue&scope=Power%20Apps\" >DateTimeValue</a></li><li><a href=\"https://docs.microsoft.com/en-us/search/?terms=Day&scope=Power%20Apps\" >Day</a></li><li><a href=\"https://docs.microsoft.com/en-us/search/?terms=Degrees&scope=Power%20Apps\" >Degrees</a></li><li><a href=\"https://docs.microsoft.com/en-us/search/?terms=Dec2Hex&scope=Power%20Apps\" >Dec2Hex</a></li><li><a href=\"https://docs.microsoft.com/en-us/search/?terms=Decimal&scope=Power%20Apps\" >Decimal</a></li><li><a href=\"https://docs.microsoft.com/en-us/search/?terms=Distinct&scope=Power%20Apps\" >Distinct</a></li><li><a href=\"https://docs.microsoft.com/en-us/search/?terms=DropColumns&scope=Power%20Apps\" >DropColumns</a></li><li><a href=\"https://docs.microsoft.com/en-us/search/?terms=EDate&scope=Power%20Apps\" >EDate</a></li><li><a href=\"https://docs.microsoft.com/en-us/search/?terms=EOMonth&scope=Power%20Apps\" >EOMonth</a></li><li><a href=\"https://docs.microsoft.com/en-us/search/?terms=EncodeHTML&scope=Power%20Apps\" >EncodeHTML</a></li><li><a href=\"https://docs.microsoft.com/en-us/search/?terms=EncodeUrl&scope=Power%20Apps\" >EncodeUrl</a></li><li><a href=\"https://docs.microsoft.com/en-us/search/?terms=EndsWith&scope=Power%20Apps\" >EndsWith</a></li><li><a href=\"https://docs.microsoft.com/en-us/search/?terms=Error&scope=Power%20Apps\" >Error</a></li><li><a href=\"https://docs.microsoft.com/en-us/search/?terms=Exp&scope=Power%20Apps\" >Exp</a></li><li><a href=\"https://docs.microsoft.com/en-us/search/?terms=Filter&scope=Power%20Apps\" >Filter</a></li><li><a href=\"https://docs.microsoft.com/en-us/search/?terms=Find&scope=Power%20Apps\" >Find</a></li><li><a href=\"https://docs.microsoft.com/en-us/search/?terms=First&scope=Power%20Apps\" >First</a></li><li><a href=\"https://docs.microsoft.com/en-us/search/?terms=FirstN&scope=Power%20Apps\" >FirstN</a></li><li><a href=\"https://docs.microsoft.com/en-us/search/?terms=Float&scope=Power%20Apps\" >Float</a></li><li><a href=\"https://docs.microsoft.com/en-us/search/?terms=ForAll&scope=Power%20Apps\" >ForAll</a></li><li><a href=\"https://docs.microsoft.com/en-us/search/?terms=GUID&scope=Power%20Apps\" >GUID</a></li><li><a href=\"https://docs.microsoft.com/en-us/search/?terms=Hex2Dec&scope=Power%20Apps\" >Hex2Dec</a></li><li><a href=\"https://docs.microsoft.com/en-us/search/?terms=Hour&scope=Power%20Apps\" >Hour</a></li><li><a href=\"https://docs.microsoft.com/en-us/search/?terms=If&scope=Power%20Apps\" >If</a></li><li><a href=\"https://docs.microsoft.com/en-us/search/?terms=IfError&scope=Power%20Apps\" >IfError</a></li><li><a href=\"https://docs.microsoft.com/en-us/search/?terms=Int&scope=Power%20Apps\" >Int</a></li><li><a href=\"https://docs.microsoft.com/en-us/search/?terms=Index&scope=Power%20Apps\" >Index</a></li><li><a href=\"https://docs.microsoft.com/en-us/search/?terms=IsBlank&scope=Power%20Apps\" >IsBlank</a></li><li><a href=\"https://docs.microsoft.com/en-us/search/?terms=IsBlankOrError&scope=Power%20Apps\" >IsBlankOrError</a></li><li><a href=\"https://docs.microsoft.com/en-us/search/?terms=IsEmpty&scope=Power%20Apps\" >IsEmpty</a></li><li><a href=\"https://docs.microsoft.com/en-us/search/?terms=IsError&scope=Power%20Apps\" >IsError</a></li><li><a href=\"https://docs.microsoft.com/en-us/search/?terms=IsNumeric&scope=Power%20Apps\" >IsNumeric</a></li><li><a href=\"https://docs.microsoft.com/en-us/search/?terms=IsToday&scope=Power%20Apps\" >IsToday</a></li><li><a href=\"https://docs.microsoft.com/en-us/search/?terms=Language&scope=Power%20Apps\" >Language</a></li><li><a href=\"https://docs.microsoft.com/en-us/search/?terms=Last&scope=Power%20Apps\" >Last</a></li><li><a href=\"https://docs.microsoft.com/en-us/search/?terms=LastN&scope=Power%20Apps\" >LastN</a></li><li><a href=\"https://docs.microsoft.com/en-us/search/?terms=Left&scope=Power%20Apps\" >Left</a></li><li><a href=\"https://docs.microsoft.com/en-us/search/?terms=Len&scope=Power%20Apps\" >Len</a></li><li><a href=\"https://docs.microsoft.com/en-us/search/?terms=Ln&scope=Power%20Apps\" >Ln</a></li><li><a href=\"https://docs.microsoft.com/en-us/search/?terms=Log&scope=Power%20Apps\" >Log</a></li><li><a href=\"https://docs.microsoft.com/en-us/search/?terms=LookUp&scope=Power%20Apps\" >LookUp</a></li><li><a href=\"https://docs.microsoft.com/en-us/search/?terms=Lower&scope=Power%20Apps\" >Lower</a></li><li><a href=\"https://docs.microsoft.com/en-us/search/?terms=Max&scope=Power%20Apps\" >Max</a></li><li><a href=\"https://docs.microsoft.com/en-us/search/?terms=Mid&scope=Power%20Apps\" >Mid</a></li><li><a href=\"https://docs.microsoft.com/en-us/search/?terms=Min&scope=Power%20Apps\" >Min</a></li><li><a href=\"https://docs.microsoft.com/en-us/search/?terms=Minute&scope=Power%20Apps\" >Minute</a></li><li><a href=\"https://docs.microsoft.com/en-us/search/?terms=Mod&scope=Power%20Apps\" >Mod</a></li><li><a href=\"https://docs.microsoft.com/en-us/search/?terms=Month&scope=Power%20Apps\" >Month</a></li><li><a href=\"https://docs.microsoft.com/en-us/search/?terms=Not&scope=Power%20Apps\" >Not</a></li><li><a href=\"https://docs.microsoft.com/en-us/search/?terms=Now&scope=Power%20Apps\" >Now</a></li><li><a href=\"https://docs.microsoft.com/en-us/search/?terms=Or&scope=Power%20Apps\" >Or</a></li><li><a href=\"https://docs.microsoft.com/en-us/search/?terms=Patch&scope=Power%20Apps\" >Patch</a></li><li><a href=\"https://docs.microsoft.com/en-us/search/?terms=Proper&scope=Power%20Apps\" >Proper</a></li><li><a href=\"https://docs.microsoft.com/en-us/search/?terms=Pi&scope=Power%20Apps\" >Pi</a></li><li><a href=\"https://docs.microsoft.com/en-us/search/?terms=PlainText&scope=Power%20Apps\" >PlainText</a></li><li><a href=\"https://docs.microsoft.com/en-us/search/?terms=Power&scope=Power%20Apps\" >Power</a></li><li><a href=\"https://docs.microsoft.com/en-us/search/?terms=Radians&scope=Power%20Apps\" >Radians</a></li><li><a href=\"https://docs.microsoft.com/en-us/search/?terms=Rand&scope=Power%20Apps\" >Rand</a></li><li><a href=\"https://docs.microsoft.com/en-us/search/?terms=RandBetween&scope=Power%20Apps\" >RandBetween</a></li><li><a href=\"https://docs.microsoft.com/en-us/search/?terms=Refresh&scope=Power%20Apps\" >Refresh</a></li><li><a href=\"https://docs.microsoft.com/en-us/search/?terms=RenameColumns&scope=Power%20Apps\" >RenameColumns</a></li><li><a href=\"https://docs.microsoft.com/en-us/search/?terms=Replace&scope=Power%20Apps\" >Replace</a></li><li><a href=\"https://docs.microsoft.com/en-us/search/?terms=RGBA&scope=Power%20Apps\" >RGBA</a></li><li><a href=\"https://docs.microsoft.com/en-us/search/?terms=Right&scope=Power%20Apps\" >Right</a></li><li><a href=\"https://docs.microsoft.com/en-us/search/?terms=Round&scope=Power%20Apps\" >Round</a></li><li><a href=\"https://docs.microsoft.com/en-us/search/?terms=RoundUp&scope=Power%20Apps\" >RoundUp</a></li><li><a href=\"https://docs.microsoft.com/en-us/search/?terms=RoundDown&scope=Power%20Apps\" >RoundDown</a></li><li><a href=\"https://docs.microsoft.com/en-us/search/?terms=Search&scope=Power%20Apps\" >Search</a></li><li><a href=\"https://docs.microsoft.com/en-us/search/?terms=Second&scope=Power%20Apps\" >Second</a></li><li><a href=\"https://docs.microsoft.com/en-us/search/?terms=Sequence&scope=Power%20Apps\" >Sequence</a></li><li><a href=\"https://docs.microsoft.com/en-us/search/?terms=Shuffle&scope=Power%20Apps\" >Shuffle</a></li><li><a href=\"https://docs.microsoft.com/en-us/search/?terms=ShowColumns&scope=Power%20Apps\" >ShowColumns</a></li><li><a href=\"https://docs.microsoft.com/en-us/search/?terms=Sin&scope=Power%20Apps\" >Sin</a></li><li><a href=\"https://docs.microsoft.com/en-us/search/?terms=Sort&scope=Power%20Apps\" >Sort</a></li><li><a href=\"https://docs.microsoft.com/en-us/search/?terms=SortByColumns&scope=Power%20Apps\" >SortByColumns</a></li><li><a href=\"https://docs.microsoft.com/en-us/search/?terms=Split&scope=Power%20Apps\" >Split</a></li><li><a href=\"https://docs.microsoft.com/en-us/search/?terms=Sqrt&scope=Power%20Apps\" >Sqrt</a></li><li><a href=\"https://docs.microsoft.com/en-us/search/?terms=StartsWith&scope=Power%20Apps\" >StartsWith</a></li><li><a href=\"https://docs.microsoft.com/en-us/search/?terms=StdevP&scope=Power%20Apps\" >StdevP</a></li><li><a href=\"https://docs.microsoft.com/en-us/search/?terms=Substitute&scope=Power%20Apps\" >Substitute</a></li><li><a href=\"https://docs.microsoft.com/en-us/search/?terms=Sum&scope=Power%20Apps\" >Sum</a></li><li><a href=\"https://docs.microsoft.com/en-us/search/?terms=Switch&scope=Power%20Apps\" >Switch</a></li><li><a href=\"https://docs.microsoft.com/en-us/search/?terms=Table&scope=Power%20Apps\" >Table</a></li><li><a href=\"https://docs.microsoft.com/en-us/search/?terms=Tan&scope=Power%20Apps\" >Tan</a></li><li><a href=\"https://docs.microsoft.com/en-us/search/?terms=Text&scope=Power%20Apps\" >Text</a></li><li><a href=\"https://docs.microsoft.com/en-us/search/?terms=Time&scope=Power%20Apps\" >Time</a></li><li><a href=\"https://docs.microsoft.com/en-us/search/?terms=TimeValue&scope=Power%20Apps\" >TimeValue</a></li><li><a href=\"https://docs.microsoft.com/en-us/search/?terms=TimeZoneOffset&scope=Power%20Apps\" >TimeZoneOffset</a></li><li><a href=\"https://docs.microsoft.com/en-us/search/?terms=Today&scope=Power%20Apps\" >Today</a></li><li><a href=\"https://docs.microsoft.com/en-us/search/?terms=Trace&scope=Power%20Apps\" >Trace</a></li><li><a href=\"https://docs.microsoft.com/en-us/search/?terms=Trim&scope=Power%20Apps\" >Trim</a></li><li><a href=\"https://docs.microsoft.com/en-us/search/?terms=TrimEnds&scope=Power%20Apps\" >TrimEnds</a></li><li><a href=\"https://docs.microsoft.com/en-us/search/?terms=Trunc&scope=Power%20Apps\" >Trunc</a></li><li><a href=\"https://docs.microsoft.com/en-us/search/?terms=UniChar&scope=Power%20Apps\" >UniChar</a></li><li><a href=\"https://docs.microsoft.com/en-us/search/?terms=Upper&scope=Power%20Apps\" >Upper</a></li><li><a href=\"https://docs.microsoft.com/en-us/search/?terms=Value&scope=Power%20Apps\" >Value</a></li><li><a href=\"https://docs.microsoft.com/en-us/search/?terms=VarP&scope=Power%20Apps\" >VarP</a></li><li><a href=\"https://docs.microsoft.com/en-us/search/?terms=Weekday&scope=Power%20Apps\" >Weekday</a></li><li><a href=\"https://docs.microsoft.com/en-us/search/?terms=WeekNum&scope=Power%20Apps\" >WeekNum</a></li><li><a href=\"https://docs.microsoft.com/en-us/search/?terms=With&scope=Power%20Apps\" >With</a></li><li><a href=\"https://docs.microsoft.com/en-us/search/?terms=Year&scope=Power%20Apps\" >Year</a></li><li><a href=\"https://docs.microsoft.com/en-us/search/?terms=ParseJSON&scope=Power%20Apps\" >ParseJSON</a></li><li><a href=\"https://docs.microsoft.com/en-us/search/?terms=JSON&scope=Power%20Apps\" >JSON</a></li><li><a href=\"https://docs.microsoft.com/en-us/search/?terms=Set&scope=Power%20Apps\" >Set</a></li></ol></details><br>"
      ]
     },
     "metadata": {},
     "output_type": "display_data"
    }
   ],
   "source": [
    "#r \"nuget: PowerFx.NET.Interactive\""
   ]
  },
  {
   "cell_type": "markdown",
   "metadata": {},
   "source": [
    "# Known Issues\n",
    "\n",
    "1. Intellisense does not work for multiple lines."
   ]
  },
  {
   "cell_type": "markdown",
   "metadata": {},
   "source": [
    "# Set Variable"
   ]
  },
  {
   "cell_type": "code",
   "execution_count": 2,
   "metadata": {
    "dotnet_interactive": {
     "language": "powerfx"
    },
    "polyglot_notebook": {
     "kernelName": "powerfx"
    }
   },
   "outputs": [
    {
     "data": {
      "text/plain": [
       "\"Polyglot Notebooks 💗 Power Fx\""
      ]
     },
     "metadata": {},
     "output_type": "display_data"
    }
   ],
   "source": [
    "Set(environment, \"Polyglot Notebooks 💗 Power Fx\")"
   ]
  },
  {
   "cell_type": "markdown",
   "metadata": {},
   "source": [
    "# Set Table"
   ]
  },
  {
   "cell_type": "code",
   "execution_count": null,
   "metadata": {
    "dotnet_interactive": {
     "language": "powerfx"
    },
    "polyglot_notebook": {
     "kernelName": "powerfx"
    }
   },
   "outputs": [],
   "source": [
    "ClearCollect( Products,\n",
    "    Table(\n",
    "        { Product: \"Widget\",    'Quantity Requested': 6,  'Quantity Available': 3 },\n",
    "        { Product: \"Gadget\",    'Quantity Requested': 10, 'Quantity Available': 20 },\n",
    "        { Product: \"Gizmo\",     'Quantity Requested': 4,  'Quantity Available': 11 },\n",
    "        { Product: \"Apparatus\", 'Quantity Requested': 7,  'Quantity Available': 6 }\n",
    "    )\n",
    ");"
   ]
  },
  {
   "cell_type": "markdown",
   "metadata": {},
   "source": [
    "You can now evaluate the Products collection."
   ]
  },
  {
   "cell_type": "code",
   "execution_count": null,
   "metadata": {
    "dotnet_interactive": {
     "language": "powerfx"
    },
    "polyglot_notebook": {
     "kernelName": "powerfx"
    }
   },
   "outputs": [],
   "source": [
    "First(Products).'Quantity Available'"
   ]
  },
  {
   "cell_type": "markdown",
   "metadata": {},
   "source": [
    "# Run Multiple Formulas"
   ]
  },
  {
   "cell_type": "code",
   "execution_count": null,
   "metadata": {
    "dotnet_interactive": {
     "language": "powerfx"
    },
    "polyglot_notebook": {
     "kernelName": "powerfx"
    }
   },
   "outputs": [],
   "source": [
    "Set(varInput, ForAll( [\"4\"], Sqrt( Value ) ));\n",
    "Sequence(4);\n",
    "First(varInput);"
   ]
  },
  {
   "cell_type": "markdown",
   "metadata": {},
   "source": [
    "# Filtering"
   ]
  },
  {
   "cell_type": "code",
   "execution_count": null,
   "metadata": {
    "dotnet_interactive": {
     "language": "powerfx"
    },
    "polyglot_notebook": {
     "kernelName": "powerfx"
    }
   },
   "outputs": [],
   "source": [
    "ClearCollect( Products,\n",
    "    Table(\n",
    "        { Product: \"Widget\",    'Quantity Requested': 6,  'Quantity Available': 3 },\n",
    "        { Product: \"Gadget\",    'Quantity Requested': 10, 'Quantity Available': 20 },\n",
    "        { Product: \"Gizmo\",     'Quantity Requested': 4,  'Quantity Available': 11 },\n",
    "        { Product: \"Apparatus\", 'Quantity Requested': 7,  'Quantity Available': 6 }\n",
    "    )\n",
    ");\n",
    "First(Products);\n",
    "AddColumns( Filter( Products, 'Quantity Requested' > 'Quantity Available' ), 'Quantity To Order', 'Quantity Requested' - 'Quantity Available');"
   ]
  },
  {
   "cell_type": "markdown",
   "metadata": {},
   "source": [
    "## ParseJSON\n",
    "\n",
    "While _ParseJSON_ can be used in Power Fx, there is a known issue in this kernel to that prevents the output of _ParseJSON_ for being displayed properly because it is an _UntypedObjectValue_. The workaround for this issue is to use _ForAll_ and construct a strongly typed object."
   ]
  },
  {
   "cell_type": "code",
   "execution_count": null,
   "metadata": {
    "dotnet_interactive": {
     "language": "powerfx"
    },
    "polyglot_notebook": {
     "kernelName": "powerfx"
    }
   },
   "outputs": [],
   "source": [
    "ForAll(Table(ParseJSON( \"[{ \"\"name\"\": \"\"Iron Man\"\" }, { \"\"name\"\": \"\"Dark Knight\"\" }]\")), { name: Text(ThisRecord.Value.name) } )"
   ]
  },
  {
   "cell_type": "code",
   "execution_count": null,
   "metadata": {
    "dotnet_interactive": {
     "language": "powerfx"
    },
    "polyglot_notebook": {
     "kernelName": "powerfx"
    }
   },
   "outputs": [],
   "source": [
    "Table(ParseJSON( \"[{ \"\"name\"\": \"\"Iron Man\"\" }, { \"\"name\"\": \"\"Dark Knight\"\" }]\"))"
   ]
  },
  {
   "cell_type": "markdown",
   "metadata": {},
   "source": [
    "## Querying Dataverse\n",
    "\n",
    "You can query a single Dataverse environment by using the _#!dataverse-powerfx_ magic command with the connection string parameter."
   ]
  },
  {
   "cell_type": "code",
   "execution_count": null,
   "metadata": {
    "dotnet_interactive": {
     "language": "powerfx"
    },
    "polyglot_notebook": {
     "kernelName": "powerfx"
    }
   },
   "outputs": [],
   "source": [
    "#!dataverse-powerfx --connectionString \"AuthType=OAuth; Url=https://powerappspayg.crm6.dynamics.com; AppId=51f81489-12ee-4a9e-aaae-a2591f45987d; RedirectUri=http://localhost; TokenCacheStorePath=./tokencache; LoginPrompt=Auto\"\n",
    "ForAll(FirstN(Users,1), {name: 'Full Name', email: 'Primary Email', id: 'User' })"
   ]
  },
  {
   "cell_type": "markdown",
   "metadata": {},
   "source": [
    "If you are already logged into Azure using Azure CLI, VSCode, Visual Studio or Azure PowerShell you can also get a token via Azure and use that to connect to Dataverse. If you have non of these installed locally browser popup will be used as the fall back mechanism to get the token via interactive login. This is a bit safe because you don't need to put ClientId/Secret in plain text."
   ]
  },
  {
   "cell_type": "code",
   "execution_count": null,
   "metadata": {
    "dotnet_interactive": {
     "language": "powerfx"
    },
    "polyglot_notebook": {
     "kernelName": "powerfx"
    }
   },
   "outputs": [],
   "source": [
    "#!dataverse-powerfx --connectionString \"AuthType=OAuth; Url=https://powerappspayg.crm6.dynamics.com; AppId=51f81489-12ee-4a9e-aaae-a2591f45987d; RedirectUri=http://localhost; TokenCacheStorePath=./tokencache; LoginPrompt=Auto\"\n",
    "ClearCollect(Top2Solutions, ForAll(Filter(Solutions, 'Package Type' = 'Package Type (Solutions)'.Unmanaged), {name: 'Display Name', installedDate: 'Installed On', publisher: ThisRecord.Publisher.Name}));"
   ]
  },
  {
   "cell_type": "markdown",
   "metadata": {},
   "source": [
    "If an expression does not return any result, empty result will be returned."
   ]
  },
  {
   "cell_type": "code",
   "execution_count": null,
   "metadata": {
    "dotnet_interactive": {
     "language": "powerfx"
    },
    "polyglot_notebook": {
     "kernelName": "powerfx"
    }
   },
   "outputs": [],
   "source": [
    "#!dataverse-powerfx --environment \"https://powerappspayg.crm6.dynamics.com\"\n",
    "Filter('Flow Runs', 'Start time'>DateAdd(Now(),-1,TimeUnit.Hours))"
   ]
  },
  {
   "cell_type": "markdown",
   "metadata": {},
   "source": [
    "You can also use _Set_ or _ClearCollect_ functions on data returned by Dataverse Power Fx statements."
   ]
  },
  {
   "cell_type": "code",
   "execution_count": null,
   "metadata": {
    "dotnet_interactive": {
     "language": "powerfx"
    },
    "polyglot_notebook": {
     "kernelName": "powerfx"
    }
   },
   "outputs": [],
   "source": [
    "#!dataverse-powerfx --environment \"https://powerappspayg.crm6.dynamics.com\"\n",
    "Set(varUnmanagedSolutions, Filter(Solutions, 'Package Type' = 'Package Type (Solutions)'.Unmanaged))\n",
    "ForAll(Table(ParseJSON( \"[{ \"\"name\"\": \"\"Iron Man\"\" }, { \"\"name\"\": \"\"Dark Knight\"\" }]\")), { name: Text(ThisRecord.Value.name) } )"
   ]
  },
  {
   "cell_type": "markdown",
   "metadata": {},
   "source": [
    "If you just want to query and project the results, you can do so like below."
   ]
  },
  {
   "cell_type": "code",
   "execution_count": 4,
   "metadata": {
    "dotnet_interactive": {
     "language": "powerfx"
    },
    "polyglot_notebook": {
     "kernelName": "powerfx"
    }
   },
   "outputs": [
    {
     "ename": "Error",
     "evalue": "System.UriFormatException: Invalid URI: The URI scheme is not valid.\r\n   at System.Uri.CreateThis(String uri, Boolean dontEscape, UriKind uriKind, UriCreationOptions& creationOptions)\r\n   at System.Uri..ctor(String uriString)\r\n   at PowerFxDotnetInteractive.PowerFxKernel.HandleAsync(SubmitCode submitCode, KernelInvocationContext context)\r\n   at Microsoft.DotNet.Interactive.Kernel.<>c__DisplayClass82_0`1.<SetHandler>b__0(KernelCommand _, KernelInvocationContext context) in D:\\a\\_work\\1\\s\\src\\Microsoft.DotNet.Interactive\\Kernel.cs:line 878\r\n   at Microsoft.DotNet.Interactive.Commands.KernelCommand.InvokeAsync(KernelInvocationContext context) in D:\\a\\_work\\1\\s\\src\\Microsoft.DotNet.Interactive\\Commands\\KernelCommand.cs:line 189\r\n   at Microsoft.DotNet.Interactive.Kernel.HandleAsync(KernelCommand command, KernelInvocationContext context) in D:\\a\\_work\\1\\s\\src\\Microsoft.DotNet.Interactive\\Kernel.cs:line 330\r\n   at Microsoft.DotNet.Interactive.KernelCommandPipeline.<BuildPipeline>b__6_0(KernelCommand command, KernelInvocationContext context, KernelPipelineContinuation _) in D:\\a\\_work\\1\\s\\src\\Microsoft.DotNet.Interactive\\KernelCommandPipeline.cs:line 60\r\n   at Microsoft.DotNet.Interactive.KernelCommandPipeline.SendAsync(KernelCommand command, KernelInvocationContext context) in D:\\a\\_work\\1\\s\\src\\Microsoft.DotNet.Interactive\\KernelCommandPipeline.cs:line 41",
     "output_type": "error",
     "traceback": [
      "System.UriFormatException: Invalid URI: The URI scheme is not valid.\r\n",
      "   at System.Uri.CreateThis(String uri, Boolean dontEscape, UriKind uriKind, UriCreationOptions& creationOptions)\r\n",
      "   at System.Uri..ctor(String uriString)\r\n",
      "   at PowerFxDotnetInteractive.PowerFxKernel.HandleAsync(SubmitCode submitCode, KernelInvocationContext context)\r\n",
      "   at Microsoft.DotNet.Interactive.Kernel.<>c__DisplayClass82_0`1.<SetHandler>b__0(KernelCommand _, KernelInvocationContext context) in D:\\a\\_work\\1\\s\\src\\Microsoft.DotNet.Interactive\\Kernel.cs:line 878\r\n",
      "   at Microsoft.DotNet.Interactive.Commands.KernelCommand.InvokeAsync(KernelInvocationContext context) in D:\\a\\_work\\1\\s\\src\\Microsoft.DotNet.Interactive\\Commands\\KernelCommand.cs:line 189\r\n",
      "   at Microsoft.DotNet.Interactive.Kernel.HandleAsync(KernelCommand command, KernelInvocationContext context) in D:\\a\\_work\\1\\s\\src\\Microsoft.DotNet.Interactive\\Kernel.cs:line 330\r\n",
      "   at Microsoft.DotNet.Interactive.KernelCommandPipeline.<BuildPipeline>b__6_0(KernelCommand command, KernelInvocationContext context, KernelPipelineContinuation _) in D:\\a\\_work\\1\\s\\src\\Microsoft.DotNet.Interactive\\KernelCommandPipeline.cs:line 60\r\n",
      "   at Microsoft.DotNet.Interactive.KernelCommandPipeline.SendAsync(KernelCommand command, KernelInvocationContext context) in D:\\a\\_work\\1\\s\\src\\Microsoft.DotNet.Interactive\\KernelCommandPipeline.cs:line 41"
     ]
    }
   ],
   "source": [
    "#!dataverse-powerfx --environment https://powerappspayg.crm6.dynamics.com\n",
    "ForAll(Filter(Solutions, 'Package Type' = 'Package Type (Solutions)'.Unmanaged), {name: 'Display Name', installedDate: 'Installed On', publisher: ThisRecord.Publisher.Name})"
   ]
  },
  {
   "cell_type": "markdown",
   "metadata": {},
   "source": [
    "You cannot change the data in Dataverse though. The below statement *does not* work in Power Fx 1.3.0. It errors out with _'Defaults' is a recognized but not supported function._"
   ]
  },
  {
   "cell_type": "code",
   "execution_count": null,
   "metadata": {
    "dotnet_interactive": {
     "language": "powerfx"
    },
    "polyglot_notebook": {
     "kernelName": "powerfx"
    }
   },
   "outputs": [],
   "source": [
    "#!dataverse-powerfx --connectionString \"AuthType=OAuth; Url=https://powerappspayg.crm6.dynamics.com; AppId=51f81489-12ee-4a9e-aaae-a2591f45987d; RedirectUri=http://localhost; TokenCacheStorePath=.\\tokencache; LoginPrompt=Auto\"\n",
    "Patch(Accounts, Defaults(Accounts), {'Account Name': \"Hello\"})"
   ]
  },
  {
   "cell_type": "code",
   "execution_count": null,
   "metadata": {
    "dotnet_interactive": {
     "language": "powerfx"
    },
    "polyglot_notebook": {
     "kernelName": "powerfx"
    }
   },
   "outputs": [],
   "source": [
    "#!dataverse-powerfx --environment \"https://powerappspayg.crm6.dynamics.com\"\n",
    "Patch(Accounts, First(Filter(Accounts, 'Account Name'=\"Sample1\")).AsV, { 'Main Phone':\"12345\"});\n",
    "ForAll(Accounts,{name:'Account Name', id: 'Account', phone: 'Main Phone'});\n",
    "As\n"
   ]
  },
  {
   "cell_type": "markdown",
   "metadata": {},
   "source": [
    "# Create variables in C#"
   ]
  },
  {
   "cell_type": "code",
   "execution_count": null,
   "metadata": {
    "dotnet_interactive": {
     "language": "csharp"
    }
   },
   "outputs": [],
   "source": [
    "using System.Collections.Generic;\n",
    "\n",
    "record Point(decimal x, decimal y);\n",
    "\n",
    "List<Point> points = [new Point(1m, 2m), new Point(1.1m, 2.2m)];\n",
    "var today = DateTime.Now;"
   ]
  },
  {
   "cell_type": "markdown",
   "metadata": {},
   "source": [
    "# Use variables from C# in Power Fx"
   ]
  },
  {
   "cell_type": "code",
   "execution_count": null,
   "metadata": {
    "dotnet_interactive": {
     "language": "powerfx"
    },
    "polyglot_notebook": {
     "kernelName": "powerfx"
    }
   },
   "outputs": [],
   "source": [
    "#!share points --from csharp\n",
    "#!share today --from csharp\n",
    "Set(varePoints, points);\n",
    "Set(varToday, today);"
   ]
  },
  {
   "cell_type": "markdown",
   "metadata": {},
   "source": [
    "# Set variables in Power Fx"
   ]
  },
  {
   "cell_type": "code",
   "execution_count": null,
   "metadata": {
    "dotnet_interactive": {
     "language": "powerfx"
    },
    "polyglot_notebook": {
     "kernelName": "powerfx"
    }
   },
   "outputs": [],
   "source": [
    "ClearCollect( Catalog,\n",
    "    Table(\n",
    "        { Product: \"Widget\",    'QuantityRequested': 6,  'QuantityAvailable': 3 },\n",
    "        { Product: \"Gadget\",    'QuantityRequested': 10, 'QuantityAvailable': 20 }\n",
    "    )\n",
    ");"
   ]
  },
  {
   "cell_type": "markdown",
   "metadata": {},
   "source": [
    "# Use variable from Power Fx in JavaScript"
   ]
  },
  {
   "cell_type": "code",
   "execution_count": null,
   "metadata": {
    "dotnet_interactive": {
     "language": "javascript"
    },
    "polyglot_notebook": {
     "kernelName": "javascript"
    }
   },
   "outputs": [],
   "source": [
    "#!set --value @powerfx:Catalog --name catalog\n",
    "console.log(catalog.filter(x=>x.QuantityRequested >= 10));"
   ]
  },
  {
   "cell_type": "markdown",
   "metadata": {},
   "source": [
    "## Using C# to create new Functions in Power Fx \n",
    "You can create new Functions by extending a new class from ReflectionFunction. The classname should end with Function. Let us implement a sample Functions:\n",
    "\n",
    "Slice - This is similar to JavaScript Array.slice function. It accepts 3 parameters: The Table to slice records from, starting index of the slice, and number of items to slice. You can pass Blank, if you want all the items from the starting index of slice."
   ]
  },
  {
   "cell_type": "code",
   "execution_count": null,
   "metadata": {
    "dotnet_interactive": {
     "language": "csharp"
    },
    "polyglot_notebook": {
     "kernelName": "csharp"
    }
   },
   "outputs": [],
   "source": [
    "using Microsoft.PowerFx;\n",
    "using Microsoft.PowerFx.Types;\n",
    "using PowerFxDotnetInteractive;\n",
    "\n",
    "private class SliceFunction : ReflectionFunction\n",
    "{\n",
    "\tpublic SliceFunction()\n",
    "\t\t: base(\"Slice\", TableType.Empty().Add(\"Name\", FormulaType.String).Add(\"Rating\", FormulaType.Number),TableType.Empty().Add(\"Name\", FormulaType.String).Add(\"Rating\", FormulaType.Number), FormulaType.Number, FormulaType.Number)\n",
    "\t{\n",
    "\t}\n",
    "\n",
    "\tpublic TableValue Execute(TableValue table, NumberValue skipCount, NumberValue takeCount)\n",
    "\t{\n",
    "\t\treturn TableValue.NewTable(table.Rows.First().Value.Type, table.Rows.Skip((int)skipCount.Value).Take((int)takeCount.Value).Select(x => x.Value).ToArray());\n",
    "\t}\n",
    "}"
   ]
  },
  {
   "cell_type": "markdown",
   "metadata": {},
   "source": [
    "Now let us add the function to the Power Fx Engine. We obtain the instance of RecalcEngine from the Power Fx kernel and add our custom Function to the config."
   ]
  },
  {
   "cell_type": "code",
   "execution_count": null,
   "metadata": {
    "dotnet_interactive": {
     "language": "csharp"
    },
    "polyglot_notebook": {
     "kernelName": "csharp"
    }
   },
   "outputs": [],
   "source": [
    "PowerFxKernel.GetRecalcEngine().Config.AddFunction(new SliceFunction())"
   ]
  },
  {
   "cell_type": "markdown",
   "metadata": {},
   "source": [
    "You can now check if the new Function has been added to the available Symbols as below."
   ]
  },
  {
   "cell_type": "code",
   "execution_count": null,
   "metadata": {
    "dotnet_interactive": {
     "language": "csharp"
    },
    "polyglot_notebook": {
     "kernelName": "csharp"
    }
   },
   "outputs": [],
   "source": [
    "PowerFxKernel.GetRecalcEngine().Config.SymbolTable.FunctionNames"
   ]
  },
  {
   "cell_type": "markdown",
   "metadata": {},
   "source": [
    "Now we can use _Slice_ Function like any native Power Fx Function."
   ]
  },
  {
   "cell_type": "code",
   "execution_count": null,
   "metadata": {
    "dotnet_interactive": {
     "language": "powerfx"
    },
    "polyglot_notebook": {
     "kernelName": "powerfx"
    }
   },
   "outputs": [],
   "source": [
    "Set(MovieTable, Table({ Name: \"Iron Man\", Rating: 10 }, { Name: \"Captain America\", Rating: 10 }, { Name: \"Dark Knight\", Rating: 10 }));\n",
    "Slice(MovieTable, 1, 1);\n",
    "Slice(MovieTable, 1, 2);"
   ]
  },
  {
   "cell_type": "markdown",
   "metadata": {},
   "source": [
    "## Adding Power Fx Custom Functions using Power Fx\n",
    "\n",
    "You can also define a Power Fx function similar to a short lambda Function. e.g. multiplying two numbers."
   ]
  },
  {
   "cell_type": "code",
   "execution_count": null,
   "metadata": {
    "dotnet_interactive": {
     "language": "csharp"
    },
    "polyglot_notebook": {
     "kernelName": "csharp"
    }
   },
   "outputs": [],
   "source": [
    "using PowerFxDotnetInteractive;\n",
    "\n",
    "PowerFxKernel.GetRecalcEngine().AddUserDefinitions(\"Multiply(a:Number, b:Number):Number = a * b;\");"
   ]
  },
  {
   "cell_type": "markdown",
   "metadata": {},
   "source": [
    "You can now call the defined Function in Power Fx."
   ]
  },
  {
   "cell_type": "code",
   "execution_count": null,
   "metadata": {
    "dotnet_interactive": {
     "language": "powerfx"
    },
    "polyglot_notebook": {
     "kernelName": "powerfx"
    }
   },
   "outputs": [],
   "source": [
    "Multiply(10,2.4)"
   ]
  }
 ],
 "metadata": {
  "kernelspec": {
   "display_name": ".NET (C#)",
   "language": "C#",
   "name": ".net-csharp"
  },
  "language_info": {
   "name": "polyglot-notebook"
  },
  "polyglot_notebook": {
   "kernelInfo": {
    "defaultKernelName": "csharp",
    "items": [
     {
      "aliases": [],
      "name": "csharp"
     },
     {
      "aliases": [],
      "languageName": "powerfx",
      "name": "powerfx"
     }
    ]
   }
  }
 },
 "nbformat": 4,
 "nbformat_minor": 2
}
